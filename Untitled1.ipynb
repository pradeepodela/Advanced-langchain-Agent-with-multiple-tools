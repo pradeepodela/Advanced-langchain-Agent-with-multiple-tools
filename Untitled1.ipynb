{
 "cells": [
  {
   "cell_type": "code",
   "execution_count": 1,
   "id": "f0870f39-d456-489d-b327-e102b69d9dbc",
   "metadata": {},
   "outputs": [
    {
     "name": "stdout",
     "output_type": "stream",
     "text": [
      "Collecting autoscraper\n",
      "  Downloading autoscraper-1.1.14-py3-none-any.whl (10 kB)\n",
      "Requirement already satisfied: requests in /Users/odelapradeep/mambaforge/envs/mistral/lib/python3.11/site-packages (from autoscraper) (2.31.0)\n",
      "Collecting bs4 (from autoscraper)\n",
      "  Downloading bs4-0.0.2-py2.py3-none-any.whl.metadata (411 bytes)\n",
      "Requirement already satisfied: lxml in /Users/odelapradeep/mambaforge/envs/mistral/lib/python3.11/site-packages (from autoscraper) (4.9.3)\n",
      "Requirement already satisfied: beautifulsoup4 in /Users/odelapradeep/mambaforge/envs/mistral/lib/python3.11/site-packages (from bs4->autoscraper) (4.12.2)\n",
      "Requirement already satisfied: charset-normalizer<4,>=2 in /Users/odelapradeep/mambaforge/envs/mistral/lib/python3.11/site-packages (from requests->autoscraper) (3.2.0)\n",
      "Requirement already satisfied: idna<4,>=2.5 in /Users/odelapradeep/mambaforge/envs/mistral/lib/python3.11/site-packages (from requests->autoscraper) (3.4)\n",
      "Requirement already satisfied: urllib3<3,>=1.21.1 in /Users/odelapradeep/mambaforge/envs/mistral/lib/python3.11/site-packages (from requests->autoscraper) (1.26.18)\n",
      "Requirement already satisfied: certifi>=2017.4.17 in /Users/odelapradeep/mambaforge/envs/mistral/lib/python3.11/site-packages (from requests->autoscraper) (2023.7.22)\n",
      "Requirement already satisfied: soupsieve>1.2 in /Users/odelapradeep/mambaforge/envs/mistral/lib/python3.11/site-packages (from beautifulsoup4->bs4->autoscraper) (2.5)\n",
      "Downloading bs4-0.0.2-py2.py3-none-any.whl (1.2 kB)\n",
      "Installing collected packages: bs4, autoscraper\n",
      "Successfully installed autoscraper-1.1.14 bs4-0.0.2\n"
     ]
    }
   ],
   "source": [
    "!pip install autoscraper"
   ]
  },
  {
   "cell_type": "code",
   "execution_count": 2,
   "id": "0a54ce01-9b7a-4a53-82e7-b5bdac16d537",
   "metadata": {},
   "outputs": [],
   "source": [
    "from autoscraper import AutoScraper\n"
   ]
  },
  {
   "cell_type": "code",
   "execution_count": 6,
   "id": "1d88718a-6a2b-4485-8001-6cb649d1edf7",
   "metadata": {},
   "outputs": [],
   "source": [
    "amazon_url=\"https://www.amazon.in/s?k=iphones\"\n",
    "\n",
    "wanted_list=[\"Apple iPhone 13 (128GB) - Blue\"]"
   ]
  },
  {
   "cell_type": "code",
   "execution_count": 7,
   "id": "22b593c6-5131-4981-a214-6ef3ebc10d92",
   "metadata": {},
   "outputs": [
    {
     "name": "stdout",
     "output_type": "stream",
     "text": [
      "[]\n"
     ]
    }
   ],
   "source": [
    "scraper=AutoScraper()\n",
    "result=scraper.build(amazon_url,wanted_list)\n",
    "print(result)"
   ]
  },
  {
   "cell_type": "code",
   "execution_count": 8,
   "id": "ecbd8364-60e8-44ab-9b4b-ee8f5654e459",
   "metadata": {},
   "outputs": [
    {
     "name": "stdout",
     "output_type": "stream",
     "text": [
      "Collecting amazon-product-review-scraper\n",
      "  Using cached amazon_product_review_scraper-0.9-py3-none-any.whl (5.6 kB)\n",
      "Requirement already satisfied: beautifulsoup4 in /Users/odelapradeep/mambaforge/envs/mistral/lib/python3.11/site-packages (from amazon-product-review-scraper) (4.12.2)\n",
      "Requirement already satisfied: tqdm in /Users/odelapradeep/mambaforge/envs/mistral/lib/python3.11/site-packages (from amazon-product-review-scraper) (4.66.1)\n",
      "Collecting fake-useragent (from amazon-product-review-scraper)\n",
      "  Downloading fake_useragent-1.4.0-py3-none-any.whl.metadata (13 kB)\n",
      "Requirement already satisfied: soupsieve>1.2 in /Users/odelapradeep/mambaforge/envs/mistral/lib/python3.11/site-packages (from beautifulsoup4->amazon-product-review-scraper) (2.5)\n",
      "Downloading fake_useragent-1.4.0-py3-none-any.whl (15 kB)\n",
      "Installing collected packages: fake-useragent, amazon-product-review-scraper\n",
      "Successfully installed amazon-product-review-scraper-0.9 fake-useragent-1.4.0\n"
     ]
    }
   ],
   "source": [
    "!pip install amazon-product-review-scraper"
   ]
  },
  {
   "cell_type": "code",
   "execution_count": 9,
   "id": "3fa47702-fb98-4c79-85d5-6873cb2d7293",
   "metadata": {},
   "outputs": [
    {
     "name": "stderr",
     "output_type": "stream",
     "text": [
      "/Users/odelapradeep/mambaforge/envs/mistral/lib/python3.11/site-packages/tqdm/auto.py:21: TqdmWarning: IProgress not found. Please update jupyter and ipywidgets. See https://ipywidgets.readthedocs.io/en/stable/user_install.html\n",
      "  from .autonotebook import tqdm as notebook_tqdm\n"
     ]
    },
    {
     "ename": "AttributeError",
     "evalue": "'NoneType' object has no attribute 'tbody'",
     "output_type": "error",
     "traceback": [
      "\u001b[0;31m---------------------------------------------------------------------------\u001b[0m",
      "\u001b[0;31mAttributeError\u001b[0m                            Traceback (most recent call last)",
      "Cell \u001b[0;32mIn[9], line 2\u001b[0m\n\u001b[1;32m      1\u001b[0m \u001b[38;5;28;01mfrom\u001b[39;00m \u001b[38;5;21;01mamazon_product_review_scraper\u001b[39;00m \u001b[38;5;28;01mimport\u001b[39;00m amazon_product_review_scraper\n\u001b[0;32m----> 2\u001b[0m review_scraper \u001b[38;5;241m=\u001b[39m \u001b[43mamazon_product_review_scraper\u001b[49m\u001b[43m(\u001b[49m\u001b[43mamazon_site\u001b[49m\u001b[38;5;241;43m=\u001b[39;49m\u001b[38;5;124;43m\"\u001b[39;49m\u001b[38;5;124;43mamazon.in\u001b[39;49m\u001b[38;5;124;43m\"\u001b[39;49m\u001b[43m,\u001b[49m\u001b[43m \u001b[49m\u001b[43mproduct_asin\u001b[49m\u001b[38;5;241;43m=\u001b[39;49m\u001b[38;5;124;43m\"\u001b[39;49m\u001b[38;5;124;43mB07X6V2FR3\u001b[39;49m\u001b[38;5;124;43m\"\u001b[39;49m\u001b[43m)\u001b[49m\n\u001b[1;32m      3\u001b[0m reviews_df \u001b[38;5;241m=\u001b[39m review_scraper\u001b[38;5;241m.\u001b[39mscrape()\n\u001b[1;32m      4\u001b[0m reviews_df\u001b[38;5;241m.\u001b[39mhead(\u001b[38;5;241m5\u001b[39m)\n",
      "File \u001b[0;32m~/mambaforge/envs/mistral/lib/python3.11/site-packages/amazon_product_review_scraper/amazon_product_review_scraper.py:29\u001b[0m, in \u001b[0;36mamazon_product_review_scraper.__init__\u001b[0;34m(self, amazon_site, product_asin, sleep_time, start_page, end_page)\u001b[0m\n\u001b[1;32m     26\u001b[0m \u001b[38;5;28mself\u001b[39m\u001b[38;5;241m.\u001b[39msleep_time \u001b[38;5;241m=\u001b[39m sleep_time\n\u001b[1;32m     27\u001b[0m \u001b[38;5;28mself\u001b[39m\u001b[38;5;241m.\u001b[39mreviews_dict \u001b[38;5;241m=\u001b[39m {\u001b[38;5;124m\"\u001b[39m\u001b[38;5;124mdate_info\u001b[39m\u001b[38;5;124m\"\u001b[39m:[], \u001b[38;5;124m\"\u001b[39m\u001b[38;5;124mname\u001b[39m\u001b[38;5;124m\"\u001b[39m:[], \u001b[38;5;124m\"\u001b[39m\u001b[38;5;124mtitle\u001b[39m\u001b[38;5;124m\"\u001b[39m:[], \u001b[38;5;124m\"\u001b[39m\u001b[38;5;124mcontent\u001b[39m\u001b[38;5;124m\"\u001b[39m:[], \u001b[38;5;124m\"\u001b[39m\u001b[38;5;124mrating\u001b[39m\u001b[38;5;124m\"\u001b[39m:[]}\n\u001b[0;32m---> 29\u001b[0m \u001b[38;5;28mself\u001b[39m\u001b[38;5;241m.\u001b[39mproxies \u001b[38;5;241m=\u001b[39m \u001b[38;5;28;43mself\u001b[39;49m\u001b[38;5;241;43m.\u001b[39;49m\u001b[43mproxy_generator\u001b[49m\u001b[43m(\u001b[49m\u001b[43m)\u001b[49m        \n\u001b[1;32m     30\u001b[0m \u001b[38;5;28mself\u001b[39m\u001b[38;5;241m.\u001b[39mmax_try \u001b[38;5;241m=\u001b[39m \u001b[38;5;241m10\u001b[39m\n\u001b[1;32m     31\u001b[0m \u001b[38;5;28mself\u001b[39m\u001b[38;5;241m.\u001b[39mua \u001b[38;5;241m=\u001b[39m ua\u001b[38;5;241m.\u001b[39mrandom\n",
      "File \u001b[0;32m~/mambaforge/envs/mistral/lib/python3.11/site-packages/amazon_product_review_scraper/amazon_product_review_scraper.py:170\u001b[0m, in \u001b[0;36mamazon_product_review_scraper.proxy_generator\u001b[0;34m(self)\u001b[0m\n\u001b[1;32m    168\u001b[0m soup \u001b[38;5;241m=\u001b[39m BeautifulSoup(response\u001b[38;5;241m.\u001b[39mcontent, \u001b[38;5;124m'\u001b[39m\u001b[38;5;124mhtml.parser\u001b[39m\u001b[38;5;124m'\u001b[39m)\n\u001b[1;32m    169\u001b[0m proxies_table \u001b[38;5;241m=\u001b[39m soup\u001b[38;5;241m.\u001b[39mfind(\u001b[38;5;28mid\u001b[39m\u001b[38;5;241m=\u001b[39m\u001b[38;5;124m'\u001b[39m\u001b[38;5;124mproxylisttable\u001b[39m\u001b[38;5;124m'\u001b[39m)\n\u001b[0;32m--> 170\u001b[0m \u001b[38;5;28;01mfor\u001b[39;00m row \u001b[38;5;129;01min\u001b[39;00m \u001b[43mproxies_table\u001b[49m\u001b[38;5;241;43m.\u001b[39;49m\u001b[43mtbody\u001b[49m\u001b[38;5;241m.\u001b[39mfind_all(\u001b[38;5;124m'\u001b[39m\u001b[38;5;124mtr\u001b[39m\u001b[38;5;124m'\u001b[39m):\n\u001b[1;32m    171\u001b[0m     proxies\u001b[38;5;241m.\u001b[39mappend({\n\u001b[1;32m    172\u001b[0m         \u001b[38;5;124m'\u001b[39m\u001b[38;5;124mip\u001b[39m\u001b[38;5;124m'\u001b[39m:   row\u001b[38;5;241m.\u001b[39mfind_all(\u001b[38;5;124m'\u001b[39m\u001b[38;5;124mtd\u001b[39m\u001b[38;5;124m'\u001b[39m)[\u001b[38;5;241m0\u001b[39m]\u001b[38;5;241m.\u001b[39mstring,\n\u001b[1;32m    173\u001b[0m         \u001b[38;5;124m'\u001b[39m\u001b[38;5;124mport\u001b[39m\u001b[38;5;124m'\u001b[39m: row\u001b[38;5;241m.\u001b[39mfind_all(\u001b[38;5;124m'\u001b[39m\u001b[38;5;124mtd\u001b[39m\u001b[38;5;124m'\u001b[39m)[\u001b[38;5;241m1\u001b[39m]\u001b[38;5;241m.\u001b[39mstring\n\u001b[1;32m    174\u001b[0m     })\n\u001b[1;32m    176\u001b[0m proxies_lst \u001b[38;5;241m=\u001b[39m [{\u001b[38;5;124m'\u001b[39m\u001b[38;5;124mhttp\u001b[39m\u001b[38;5;124m'\u001b[39m:\u001b[38;5;124m'\u001b[39m\u001b[38;5;124mhttp://\u001b[39m\u001b[38;5;124m'\u001b[39m\u001b[38;5;241m+\u001b[39mproxy[\u001b[38;5;124m'\u001b[39m\u001b[38;5;124mip\u001b[39m\u001b[38;5;124m'\u001b[39m]\u001b[38;5;241m+\u001b[39m\u001b[38;5;124m'\u001b[39m\u001b[38;5;124m:\u001b[39m\u001b[38;5;124m'\u001b[39m\u001b[38;5;241m+\u001b[39mproxy[\u001b[38;5;124m'\u001b[39m\u001b[38;5;124mport\u001b[39m\u001b[38;5;124m'\u001b[39m]} \u001b[38;5;28;01mfor\u001b[39;00m proxy \u001b[38;5;129;01min\u001b[39;00m proxies]\n",
      "\u001b[0;31mAttributeError\u001b[0m: 'NoneType' object has no attribute 'tbody'"
     ]
    }
   ],
   "source": [
    "from amazon_product_review_scraper import amazon_product_review_scraper\n",
    "review_scraper = amazon_product_review_scraper(amazon_site=\"amazon.in\", product_asin=\"B07X6V2FR3\")\n",
    "reviews_df = review_scraper.scrape()\n",
    "reviews_df.head(5)"
   ]
  },
  {
   "cell_type": "code",
   "execution_count": 10,
   "id": "3c63dfd7-e534-4d38-ad9e-15a756f59527",
   "metadata": {},
   "outputs": [],
   "source": [
    "from amazon_product_review_scraper import amazon_product_review_scraper\n"
   ]
  },
  {
   "cell_type": "code",
   "execution_count": 11,
   "id": "d7172e0a-e6ac-4887-859c-36255c62c1f6",
   "metadata": {},
   "outputs": [
    {
     "ename": "AttributeError",
     "evalue": "'NoneType' object has no attribute 'tbody'",
     "output_type": "error",
     "traceback": [
      "\u001b[0;31m---------------------------------------------------------------------------\u001b[0m",
      "\u001b[0;31mAttributeError\u001b[0m                            Traceback (most recent call last)",
      "Cell \u001b[0;32mIn[11], line 1\u001b[0m\n\u001b[0;32m----> 1\u001b[0m review_scraper \u001b[38;5;241m=\u001b[39m \u001b[43mamazon_product_review_scraper\u001b[49m\u001b[43m(\u001b[49m\u001b[43mamazon_site\u001b[49m\u001b[38;5;241;43m=\u001b[39;49m\u001b[38;5;124;43m\"\u001b[39;49m\u001b[38;5;124;43mamazon.in\u001b[39;49m\u001b[38;5;124;43m\"\u001b[39;49m\u001b[43m,\u001b[49m\u001b[43m \u001b[49m\u001b[43mproduct_asin\u001b[49m\u001b[38;5;241;43m=\u001b[39;49m\u001b[38;5;124;43m\"\u001b[39;49m\u001b[38;5;124;43mB07X6V2FR3\u001b[39;49m\u001b[38;5;124;43m\"\u001b[39;49m\u001b[43m,\u001b[49m\u001b[43m \u001b[49m\u001b[43msleep_time\u001b[49m\u001b[38;5;241;43m=\u001b[39;49m\u001b[38;5;241;43m5\u001b[39;49m\u001b[43m)\u001b[49m\n",
      "File \u001b[0;32m~/mambaforge/envs/mistral/lib/python3.11/site-packages/amazon_product_review_scraper/amazon_product_review_scraper.py:29\u001b[0m, in \u001b[0;36mamazon_product_review_scraper.__init__\u001b[0;34m(self, amazon_site, product_asin, sleep_time, start_page, end_page)\u001b[0m\n\u001b[1;32m     26\u001b[0m \u001b[38;5;28mself\u001b[39m\u001b[38;5;241m.\u001b[39msleep_time \u001b[38;5;241m=\u001b[39m sleep_time\n\u001b[1;32m     27\u001b[0m \u001b[38;5;28mself\u001b[39m\u001b[38;5;241m.\u001b[39mreviews_dict \u001b[38;5;241m=\u001b[39m {\u001b[38;5;124m\"\u001b[39m\u001b[38;5;124mdate_info\u001b[39m\u001b[38;5;124m\"\u001b[39m:[], \u001b[38;5;124m\"\u001b[39m\u001b[38;5;124mname\u001b[39m\u001b[38;5;124m\"\u001b[39m:[], \u001b[38;5;124m\"\u001b[39m\u001b[38;5;124mtitle\u001b[39m\u001b[38;5;124m\"\u001b[39m:[], \u001b[38;5;124m\"\u001b[39m\u001b[38;5;124mcontent\u001b[39m\u001b[38;5;124m\"\u001b[39m:[], \u001b[38;5;124m\"\u001b[39m\u001b[38;5;124mrating\u001b[39m\u001b[38;5;124m\"\u001b[39m:[]}\n\u001b[0;32m---> 29\u001b[0m \u001b[38;5;28mself\u001b[39m\u001b[38;5;241m.\u001b[39mproxies \u001b[38;5;241m=\u001b[39m \u001b[38;5;28;43mself\u001b[39;49m\u001b[38;5;241;43m.\u001b[39;49m\u001b[43mproxy_generator\u001b[49m\u001b[43m(\u001b[49m\u001b[43m)\u001b[49m        \n\u001b[1;32m     30\u001b[0m \u001b[38;5;28mself\u001b[39m\u001b[38;5;241m.\u001b[39mmax_try \u001b[38;5;241m=\u001b[39m \u001b[38;5;241m10\u001b[39m\n\u001b[1;32m     31\u001b[0m \u001b[38;5;28mself\u001b[39m\u001b[38;5;241m.\u001b[39mua \u001b[38;5;241m=\u001b[39m ua\u001b[38;5;241m.\u001b[39mrandom\n",
      "File \u001b[0;32m~/mambaforge/envs/mistral/lib/python3.11/site-packages/amazon_product_review_scraper/amazon_product_review_scraper.py:170\u001b[0m, in \u001b[0;36mamazon_product_review_scraper.proxy_generator\u001b[0;34m(self)\u001b[0m\n\u001b[1;32m    168\u001b[0m soup \u001b[38;5;241m=\u001b[39m BeautifulSoup(response\u001b[38;5;241m.\u001b[39mcontent, \u001b[38;5;124m'\u001b[39m\u001b[38;5;124mhtml.parser\u001b[39m\u001b[38;5;124m'\u001b[39m)\n\u001b[1;32m    169\u001b[0m proxies_table \u001b[38;5;241m=\u001b[39m soup\u001b[38;5;241m.\u001b[39mfind(\u001b[38;5;28mid\u001b[39m\u001b[38;5;241m=\u001b[39m\u001b[38;5;124m'\u001b[39m\u001b[38;5;124mproxylisttable\u001b[39m\u001b[38;5;124m'\u001b[39m)\n\u001b[0;32m--> 170\u001b[0m \u001b[38;5;28;01mfor\u001b[39;00m row \u001b[38;5;129;01min\u001b[39;00m \u001b[43mproxies_table\u001b[49m\u001b[38;5;241;43m.\u001b[39;49m\u001b[43mtbody\u001b[49m\u001b[38;5;241m.\u001b[39mfind_all(\u001b[38;5;124m'\u001b[39m\u001b[38;5;124mtr\u001b[39m\u001b[38;5;124m'\u001b[39m):\n\u001b[1;32m    171\u001b[0m     proxies\u001b[38;5;241m.\u001b[39mappend({\n\u001b[1;32m    172\u001b[0m         \u001b[38;5;124m'\u001b[39m\u001b[38;5;124mip\u001b[39m\u001b[38;5;124m'\u001b[39m:   row\u001b[38;5;241m.\u001b[39mfind_all(\u001b[38;5;124m'\u001b[39m\u001b[38;5;124mtd\u001b[39m\u001b[38;5;124m'\u001b[39m)[\u001b[38;5;241m0\u001b[39m]\u001b[38;5;241m.\u001b[39mstring,\n\u001b[1;32m    173\u001b[0m         \u001b[38;5;124m'\u001b[39m\u001b[38;5;124mport\u001b[39m\u001b[38;5;124m'\u001b[39m: row\u001b[38;5;241m.\u001b[39mfind_all(\u001b[38;5;124m'\u001b[39m\u001b[38;5;124mtd\u001b[39m\u001b[38;5;124m'\u001b[39m)[\u001b[38;5;241m1\u001b[39m]\u001b[38;5;241m.\u001b[39mstring\n\u001b[1;32m    174\u001b[0m     })\n\u001b[1;32m    176\u001b[0m proxies_lst \u001b[38;5;241m=\u001b[39m [{\u001b[38;5;124m'\u001b[39m\u001b[38;5;124mhttp\u001b[39m\u001b[38;5;124m'\u001b[39m:\u001b[38;5;124m'\u001b[39m\u001b[38;5;124mhttp://\u001b[39m\u001b[38;5;124m'\u001b[39m\u001b[38;5;241m+\u001b[39mproxy[\u001b[38;5;124m'\u001b[39m\u001b[38;5;124mip\u001b[39m\u001b[38;5;124m'\u001b[39m]\u001b[38;5;241m+\u001b[39m\u001b[38;5;124m'\u001b[39m\u001b[38;5;124m:\u001b[39m\u001b[38;5;124m'\u001b[39m\u001b[38;5;241m+\u001b[39mproxy[\u001b[38;5;124m'\u001b[39m\u001b[38;5;124mport\u001b[39m\u001b[38;5;124m'\u001b[39m]} \u001b[38;5;28;01mfor\u001b[39;00m proxy \u001b[38;5;129;01min\u001b[39;00m proxies]\n",
      "\u001b[0;31mAttributeError\u001b[0m: 'NoneType' object has no attribute 'tbody'"
     ]
    }
   ],
   "source": [
    "review_scraper = amazon_product_review_scraper(amazon_site=\"amazon.in\", product_asin=\"B07X6V2FR3\", sleep_time=5)\n"
   ]
  },
  {
   "cell_type": "code",
   "execution_count": 12,
   "id": "e7c94fd7-4a9e-4ee7-ad8b-fe8792689740",
   "metadata": {},
   "outputs": [
    {
     "ename": "NameError",
     "evalue": "name 'review_scraper' is not defined",
     "output_type": "error",
     "traceback": [
      "\u001b[0;31m---------------------------------------------------------------------------\u001b[0m",
      "\u001b[0;31mNameError\u001b[0m                                 Traceback (most recent call last)",
      "Cell \u001b[0;32mIn[12], line 1\u001b[0m\n\u001b[0;32m----> 1\u001b[0m reviews_df \u001b[38;5;241m=\u001b[39m \u001b[43mreview_scraper\u001b[49m\u001b[38;5;241m.\u001b[39mscrape()\n",
      "\u001b[0;31mNameError\u001b[0m: name 'review_scraper' is not defined"
     ]
    }
   ],
   "source": [
    "reviews_df = review_scraper.scrape()\n"
   ]
  },
  {
   "cell_type": "code",
   "execution_count": null,
   "id": "2e51eecd-0769-42b7-9d22-089202906ebf",
   "metadata": {},
   "outputs": [],
   "source": []
  }
 ],
 "metadata": {
  "kernelspec": {
   "display_name": "Python 3 (ipykernel)",
   "language": "python",
   "name": "python3"
  },
  "language_info": {
   "codemirror_mode": {
    "name": "ipython",
    "version": 3
   },
   "file_extension": ".py",
   "mimetype": "text/x-python",
   "name": "python",
   "nbconvert_exporter": "python",
   "pygments_lexer": "ipython3",
   "version": "3.11.5"
  }
 },
 "nbformat": 4,
 "nbformat_minor": 5
}
